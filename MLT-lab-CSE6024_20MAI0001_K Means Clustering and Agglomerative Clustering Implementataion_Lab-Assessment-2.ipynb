{
 "cells": [
  {
   "cell_type": "markdown",
   "metadata": {},
   "source": [
    "# MLT-Lab-CSE6024_Lab-Assessment-2: Implementation and Performance Analysis through Comparison on the efficiency of Clustering for two Clustering techniques : A) K-Means Clustering  and  B) Agglomerative Clustering , on a Beverage Dataset - 'Bev_nm.csv'\n",
    "\n",
    "Submitted By: 20MAI0001 - NIHARIKA MAITRA\n",
    "\n",
    "Git Repo link :"
   ]
  },
  {
   "cell_type": "code",
   "execution_count": null,
   "metadata": {},
   "outputs": [],
   "source": []
  },
  {
   "cell_type": "code",
   "execution_count": 313,
   "metadata": {},
   "outputs": [],
   "source": [
    "#1) To Import the Beverage dataset Bev_nm.csv and \n",
    "#to Read the dataset onto a variable (DataFrame) using Pandas :\n",
    "\n",
    "import pandas as pd\n",
    "beverages_df = pd.read_csv(\"Bev_nm.csv\") #Bev_nm.csv\n"
   ]
  },
  {
   "cell_type": "code",
   "execution_count": 314,
   "metadata": {},
   "outputs": [
    {
     "data": {
      "text/html": [
       "<div>\n",
       "<style scoped>\n",
       "    .dataframe tbody tr th:only-of-type {\n",
       "        vertical-align: middle;\n",
       "    }\n",
       "\n",
       "    .dataframe tbody tr th {\n",
       "        vertical-align: top;\n",
       "    }\n",
       "\n",
       "    .dataframe thead th {\n",
       "        text-align: right;\n",
       "    }\n",
       "</style>\n",
       "<table border=\"1\" class=\"dataframe\">\n",
       "  <thead>\n",
       "    <tr style=\"text-align: right;\">\n",
       "      <th></th>\n",
       "      <th>Name</th>\n",
       "      <th>Potassium</th>\n",
       "      <th>Sodium</th>\n",
       "      <th>Caffeine</th>\n",
       "      <th>Cost</th>\n",
       "    </tr>\n",
       "  </thead>\n",
       "  <tbody>\n",
       "    <tr>\n",
       "      <th>0</th>\n",
       "      <td>new_england_coffee</td>\n",
       "      <td>144</td>\n",
       "      <td>15</td>\n",
       "      <td>4.7</td>\n",
       "      <td>0.43</td>\n",
       "    </tr>\n",
       "    <tr>\n",
       "      <th>1</th>\n",
       "      <td>post_alley_blend</td>\n",
       "      <td>151</td>\n",
       "      <td>19</td>\n",
       "      <td>4.9</td>\n",
       "      <td>0.43</td>\n",
       "    </tr>\n",
       "    <tr>\n",
       "      <th>2</th>\n",
       "      <td>stumpdown_coffee</td>\n",
       "      <td>157</td>\n",
       "      <td>15</td>\n",
       "      <td>0.9</td>\n",
       "      <td>0.48</td>\n",
       "    </tr>\n",
       "    <tr>\n",
       "      <th>3</th>\n",
       "      <td>bizzy_organic_coffee</td>\n",
       "      <td>170</td>\n",
       "      <td>7</td>\n",
       "      <td>5.2</td>\n",
       "      <td>0.73</td>\n",
       "    </tr>\n",
       "    <tr>\n",
       "      <th>4</th>\n",
       "      <td>indian_bean</td>\n",
       "      <td>152</td>\n",
       "      <td>11</td>\n",
       "      <td>5.0</td>\n",
       "      <td>0.77</td>\n",
       "    </tr>\n",
       "  </tbody>\n",
       "</table>\n",
       "</div>"
      ],
      "text/plain": [
       "                   Name  Potassium  Sodium  Caffeine  Cost\n",
       "0    new_england_coffee        144      15       4.7  0.43\n",
       "1      post_alley_blend        151      19       4.9  0.43\n",
       "2      stumpdown_coffee        157      15       0.9  0.48\n",
       "3  bizzy_organic_coffee        170       7       5.2  0.73\n",
       "4           indian_bean        152      11       5.0  0.77"
      ]
     },
     "execution_count": 314,
     "metadata": {},
     "output_type": "execute_result"
    }
   ],
   "source": [
    "#To display the first 5 Records of the Input Beverage dataset - Bev_nm.csv :\n",
    "\n",
    "beverages_df.head()"
   ]
  },
  {
   "cell_type": "code",
   "execution_count": 315,
   "metadata": {},
   "outputs": [],
   "source": [
    "#2 To Import the necessary python libraries and Packages  :\n",
    "\n",
    "import numpy as np\n",
    "import seaborn as sns\n",
    "#import matplotlib as mlt\n",
    "import matplotlib.pyplot as plt\n",
    "#%matplotlib inline\n",
    "\n",
    "import warnings\n",
    "warnings.filterwarnings('ignore')"
   ]
  },
  {
   "cell_type": "markdown",
   "metadata": {},
   "source": [
    "# Implementing some Feature Engineering on the Input Beverage dataset - Bev_nm.csv :"
   ]
  },
  {
   "cell_type": "markdown",
   "metadata": {},
   "source": [
    "To visualize a few plots for better understanding of the type of relationship that exits between the different attributes / features of the input Beverage dataset - Bev_nm.csv : "
   ]
  },
  {
   "cell_type": "code",
   "execution_count": 316,
   "metadata": {},
   "outputs": [
    {
     "data": {
      "text/plain": [
       "<seaborn.axisgrid.FacetGrid at 0x1e19bada340>"
      ]
     },
     "execution_count": 316,
     "metadata": {},
     "output_type": "execute_result"
    },
    {
     "data": {
      "image/png": "[encoded data removed]",
      "text/plain": [
       "<Figure size 288x288 with 1 Axes>"
      ]
     },
     "metadata": {
      "needs_background": "light"
     },
     "output_type": "display_data"
    }
   ],
   "source": [
    "#To plot a Scatter Plot between the 'Caffeine' and 'Cost'  \n",
    "#attributes / features of the Beverage dataset - Bev_nm.csv :\n",
    "\n",
    "sns.lmplot(\"Caffeine\",\"Cost\",data =beverages_df, fit_reg = False, size =4)"
   ]
  },
  {
   "cell_type": "code",
   "execution_count": 317,
   "metadata": {
    "scrolled": false
   },
   "outputs": [
    {
     "name": "stdout",
     "output_type": "stream",
     "text": [
      "                       Cost\n",
      "Name                       \n",
      "jacobs_coffee          0.28\n",
      "caribou_coffee         0.38\n",
      "grounds_hounds_coffee  0.40\n",
      "mount_hagen            0.40\n",
      "la_columbe_corisca     0.42\n",
      "cremoso_coffee         0.43\n",
      "post_alley_blend       0.43\n",
      "irish_hazelnut_coffee  0.43\n",
      "new_england_coffee     0.43\n",
      "lavazza_super_crema    0.43\n",
      "red_bay_coffee         0.44\n",
      "davidoff_coffee        0.46\n",
      "peerless_wholebean     0.46\n",
      "js_coffee              0.47\n",
      "stumpdown_coffee       0.48\n",
      "stone_street_coffee    0.50\n",
      "bizzy_organic_coffee   0.73\n",
      "green_mountain_coffee  0.76\n",
      "indian_bean            0.77\n",
      "koffee_cuit            0.79\n"
     ]
    },
    {
     "data": {
      "text/plain": [
       "(array([-0.2,  0. ,  0.2,  0.4,  0.6,  0.8,  1. ,  1.2,  1.4]),\n",
       " [Text(0, 0, ''),\n",
       "  Text(0, 0, ''),\n",
       "  Text(0, 0, ''),\n",
       "  Text(0, 0, ''),\n",
       "  Text(0, 0, ''),\n",
       "  Text(0, 0, ''),\n",
       "  Text(0, 0, ''),\n",
       "  Text(0, 0, ''),\n",
       "  Text(0, 0, '')])"
      ]
     },
     "execution_count": 317,
     "metadata": {},
     "output_type": "execute_result"
    },
    {
     "data": {
      "image/png": "[encoded data removed]",
      "text/plain": [
       "<Figure size 432x648 with 1 Axes>"
      ]
     },
     "metadata": {
      "needs_background": "light"
     },
     "output_type": "display_data"
    }
   ],
   "source": [
    "#Plotting  Bar graph betweeen 'Cost' and 'Name'\n",
    "#attributes / features of the Beverage dataset - Bev_nm.csv :\n",
    "\n",
    "groupedby_places = beverages_df.groupby(\"Name\")[[\"Cost\"]].mean()\n",
    "print(groupedby_places.sort_values(by = [\"Cost\"]))\n",
    "plt.figure(figsize=(6,9))\n",
    "\n",
    "plt.bar(x=beverages_df[\"Cost\"],height=beverages_df[\"Name\"])\n",
    "plt.xticks(rotation=45)"
   ]
  },
  {
   "cell_type": "code",
   "execution_count": 318,
   "metadata": {},
   "outputs": [
    {
     "data": {
      "text/plain": [
       "<seaborn.axisgrid.FacetGrid at 0x1e19bb57100>"
      ]
     },
     "execution_count": 318,
     "metadata": {},
     "output_type": "execute_result"
    },
    {
     "data": {
      "image/png": "[encoded data removed]",
      "text/plain": [
       "<Figure size 360x360 with 1 Axes>"
      ]
     },
     "metadata": {
      "needs_background": "light"
     },
     "output_type": "display_data"
    }
   ],
   "source": [
    "#Plotting Factor Plot betweeen 'Sodium' and  and 'Potassium'\n",
    "#attributes / features of the Beverage dataset - Bev_nm.csv :\n",
    "\n",
    "sns.factorplot(x = \"Sodium\", y = \"Potassium\", data = beverages_df)"
   ]
  },
  {
   "cell_type": "code",
   "execution_count": null,
   "metadata": {},
   "outputs": [],
   "source": []
  },
  {
   "cell_type": "code",
   "execution_count": 319,
   "metadata": {},
   "outputs": [
    {
     "data": {
      "text/html": [
       "<div>\n",
       "<style scoped>\n",
       "    .dataframe tbody tr th:only-of-type {\n",
       "        vertical-align: middle;\n",
       "    }\n",
       "\n",
       "    .dataframe tbody tr th {\n",
       "        vertical-align: top;\n",
       "    }\n",
       "\n",
       "    .dataframe thead th {\n",
       "        text-align: right;\n",
       "    }\n",
       "</style>\n",
       "<table border=\"1\" class=\"dataframe\">\n",
       "  <thead>\n",
       "    <tr style=\"text-align: right;\">\n",
       "      <th></th>\n",
       "      <th>Potassium</th>\n",
       "      <th>Sodium</th>\n",
       "      <th>Caffeine</th>\n",
       "      <th>Cost</th>\n",
       "    </tr>\n",
       "  </thead>\n",
       "  <tbody>\n",
       "    <tr>\n",
       "      <th>count</th>\n",
       "      <td>20.000000</td>\n",
       "      <td>20.000000</td>\n",
       "      <td>20.000000</td>\n",
       "      <td>20.000000</td>\n",
       "    </tr>\n",
       "    <tr>\n",
       "      <th>mean</th>\n",
       "      <td>132.550000</td>\n",
       "      <td>14.950000</td>\n",
       "      <td>4.240000</td>\n",
       "      <td>0.494500</td>\n",
       "    </tr>\n",
       "    <tr>\n",
       "      <th>std</th>\n",
       "      <td>30.283702</td>\n",
       "      <td>6.581273</td>\n",
       "      <td>1.087924</td>\n",
       "      <td>0.144858</td>\n",
       "    </tr>\n",
       "    <tr>\n",
       "      <th>min</th>\n",
       "      <td>68.000000</td>\n",
       "      <td>6.000000</td>\n",
       "      <td>0.900000</td>\n",
       "      <td>0.280000</td>\n",
       "    </tr>\n",
       "    <tr>\n",
       "      <th>25%</th>\n",
       "      <td>110.250000</td>\n",
       "      <td>9.500000</td>\n",
       "      <td>4.175000</td>\n",
       "      <td>0.427500</td>\n",
       "    </tr>\n",
       "    <tr>\n",
       "      <th>50%</th>\n",
       "      <td>144.000000</td>\n",
       "      <td>15.000000</td>\n",
       "      <td>4.600000</td>\n",
       "      <td>0.435000</td>\n",
       "    </tr>\n",
       "    <tr>\n",
       "      <th>75%</th>\n",
       "      <td>150.250000</td>\n",
       "      <td>19.000000</td>\n",
       "      <td>4.900000</td>\n",
       "      <td>0.485000</td>\n",
       "    </tr>\n",
       "    <tr>\n",
       "      <th>max</th>\n",
       "      <td>175.000000</td>\n",
       "      <td>27.000000</td>\n",
       "      <td>5.500000</td>\n",
       "      <td>0.790000</td>\n",
       "    </tr>\n",
       "  </tbody>\n",
       "</table>\n",
       "</div>"
      ],
      "text/plain": [
       "        Potassium     Sodium   Caffeine       Cost\n",
       "count   20.000000  20.000000  20.000000  20.000000\n",
       "mean   132.550000  14.950000   4.240000   0.494500\n",
       "std     30.283702   6.581273   1.087924   0.144858\n",
       "min     68.000000   6.000000   0.900000   0.280000\n",
       "25%    110.250000   9.500000   4.175000   0.427500\n",
       "50%    144.000000  15.000000   4.600000   0.435000\n",
       "75%    150.250000  19.000000   4.900000   0.485000\n",
       "max    175.000000  27.000000   5.500000   0.790000"
      ]
     },
     "execution_count": 319,
     "metadata": {},
     "output_type": "execute_result"
    }
   ],
   "source": [
    "# Describing each row of the Beverage dataset - Bev_nm.csv including all Attributes / \n",
    "#Feature Variables in terms of different Statistical measures/parameters:\n",
    "\n",
    "beverages_df.describe()"
   ]
  },
  {
   "cell_type": "code",
   "execution_count": 320,
   "metadata": {},
   "outputs": [
    {
     "name": "stdout",
     "output_type": "stream",
     "text": [
      "<class 'pandas.core.frame.DataFrame'>\n",
      "RangeIndex: 20 entries, 0 to 19\n",
      "Data columns (total 5 columns):\n",
      " #   Column     Non-Null Count  Dtype  \n",
      "---  ------     --------------  -----  \n",
      " 0   Name       20 non-null     object \n",
      " 1   Potassium  20 non-null     int64  \n",
      " 2   Sodium     20 non-null     int64  \n",
      " 3   Caffeine   20 non-null     float64\n",
      " 4   Cost       20 non-null     float64\n",
      "dtypes: float64(2), int64(2), object(1)\n",
      "memory usage: 928.0+ bytes\n"
     ]
    }
   ],
   "source": [
    "#To view detailed information of the different Data Types\n",
    "#of the variables present in the Beverage dataset - Bev_nm.csv :\n",
    "\n",
    "beverages_df.info()"
   ]
  },
  {
   "cell_type": "code",
   "execution_count": 321,
   "metadata": {},
   "outputs": [
    {
     "data": {
      "text/plain": [
       "Name         0\n",
       "Potassium    0\n",
       "Sodium       0\n",
       "Caffeine     0\n",
       "Cost         0\n",
       "dtype: int64"
      ]
     },
     "execution_count": 321,
     "metadata": {},
     "output_type": "execute_result"
    }
   ],
   "source": [
    "# To check and give the count of missing values present for \n",
    "#each of the Input Features \n",
    "#('Name', 'Potassium', 'Sodium', 'Caffeine', 'Cost') of the\n",
    "#dataset - Bev-nm.csv \n",
    "\n",
    "beverages_df.isna().sum()"
   ]
  },
  {
   "cell_type": "code",
   "execution_count": 322,
   "metadata": {},
   "outputs": [
    {
     "data": {
      "text/plain": [
       "array(['new_england_coffee', 'post_alley_blend', 'stumpdown_coffee',\n",
       "       'bizzy_organic_coffee', 'indian_bean', 'jacobs_coffee',\n",
       "       'grounds_hounds_coffee', 'la_columbe_corisca',\n",
       "       'lavazza_super_crema', 'mount_hagen', 'red_bay_coffee',\n",
       "       'peerless_wholebean', 'stone_street_coffee',\n",
       "       'green_mountain_coffee', 'koffee_cuit', 'caribou_coffee',\n",
       "       'irish_hazelnut_coffee', 'cremoso_coffee', 'davidoff_coffee',\n",
       "       'js_coffee'], dtype=object)"
      ]
     },
     "execution_count": 322,
     "metadata": {},
     "output_type": "execute_result"
    }
   ],
   "source": [
    "#To display the unique values of the attribute 'Name' of the\n",
    "#Bev_nm.cv dataset :\n",
    "\n",
    "beverages_df[\"Name\"].unique()"
   ]
  },
  {
   "cell_type": "code",
   "execution_count": 323,
   "metadata": {},
   "outputs": [
    {
     "data": {
      "text/plain": [
       "4.7    3\n",
       "4.9    2\n",
       "4.6    2\n",
       "4.2    2\n",
       "5.0    2\n",
       "2.3    1\n",
       "4.1    1\n",
       "0.9    1\n",
       "3.7    1\n",
       "2.9    1\n",
       "4.4    1\n",
       "4.3    1\n",
       "5.2    1\n",
       "5.5    1\n",
       "Name: Caffeine, dtype: int64"
      ]
     },
     "execution_count": 323,
     "metadata": {},
     "output_type": "execute_result"
    }
   ],
   "source": [
    "#To display the number of occurrence of each unique value of\n",
    "#the attribute 'Caffeine' of the Bev_nm.cv dataset :\n",
    "\n",
    "beverages_df[\"Caffeine\"].value_counts()"
   ]
  },
  {
   "cell_type": "code",
   "execution_count": null,
   "metadata": {},
   "outputs": [],
   "source": []
  },
  {
   "cell_type": "code",
   "execution_count": 324,
   "metadata": {},
   "outputs": [
    {
     "data": {
      "text/plain": [
       "'from sklearn import preprocessing\\n\\nle = preprocessing.LabelEncoder()\\n\\nfor Name in beverages_df.columns:\\n        if beverages_df[\"Name\"].dtype == object:\\n            beverages_df[\"Name_fl\"] = le.fit_transform(beverages_df[\"Name\"])\\n        else:\\n            pass'"
      ]
     },
     "execution_count": 324,
     "metadata": {},
     "output_type": "execute_result"
    }
   ],
   "source": [
    "# Converting the data type of \"Name\" from string to float using LabelEncoder() :\n",
    "'''from sklearn import preprocessing\n",
    "\n",
    "le = preprocessing.LabelEncoder()\n",
    "\n",
    "for Name in beverages_df.columns:\n",
    "        if beverages_df[\"Name\"].dtype == object:\n",
    "            beverages_df[\"Name_fl\"] = le.fit_transform(beverages_df[\"Name\"])\n",
    "        else:\n",
    "            pass'''"
   ]
  },
  {
   "cell_type": "code",
   "execution_count": 325,
   "metadata": {},
   "outputs": [],
   "source": [
    "#beverages_df"
   ]
  },
  {
   "cell_type": "code",
   "execution_count": 326,
   "metadata": {},
   "outputs": [],
   "source": [
    "beverages_df1 = beverages_df[[\"Potassium\", \"Sodium\", \"Caffeine\", \"Cost\"]]"
   ]
  },
  {
   "cell_type": "code",
   "execution_count": 327,
   "metadata": {},
   "outputs": [
    {
     "data": {
      "text/html": [
       "<div>\n",
       "<style scoped>\n",
       "    .dataframe tbody tr th:only-of-type {\n",
       "        vertical-align: middle;\n",
       "    }\n",
       "\n",
       "    .dataframe tbody tr th {\n",
       "        vertical-align: top;\n",
       "    }\n",
       "\n",
       "    .dataframe thead th {\n",
       "        text-align: right;\n",
       "    }\n",
       "</style>\n",
       "<table border=\"1\" class=\"dataframe\">\n",
       "  <thead>\n",
       "    <tr style=\"text-align: right;\">\n",
       "      <th></th>\n",
       "      <th>Potassium</th>\n",
       "      <th>Sodium</th>\n",
       "      <th>Caffeine</th>\n",
       "      <th>Cost</th>\n",
       "    </tr>\n",
       "  </thead>\n",
       "  <tbody>\n",
       "    <tr>\n",
       "      <th>15</th>\n",
       "      <td>68</td>\n",
       "      <td>15</td>\n",
       "      <td>2.3</td>\n",
       "      <td>0.38</td>\n",
       "    </tr>\n",
       "    <tr>\n",
       "      <th>16</th>\n",
       "      <td>139</td>\n",
       "      <td>19</td>\n",
       "      <td>4.4</td>\n",
       "      <td>0.43</td>\n",
       "    </tr>\n",
       "    <tr>\n",
       "      <th>17</th>\n",
       "      <td>144</td>\n",
       "      <td>24</td>\n",
       "      <td>4.9</td>\n",
       "      <td>0.43</td>\n",
       "    </tr>\n",
       "    <tr>\n",
       "      <th>18</th>\n",
       "      <td>72</td>\n",
       "      <td>6</td>\n",
       "      <td>2.9</td>\n",
       "      <td>0.46</td>\n",
       "    </tr>\n",
       "    <tr>\n",
       "      <th>19</th>\n",
       "      <td>97</td>\n",
       "      <td>7</td>\n",
       "      <td>4.2</td>\n",
       "      <td>0.47</td>\n",
       "    </tr>\n",
       "  </tbody>\n",
       "</table>\n",
       "</div>"
      ],
      "text/plain": [
       "    Potassium  Sodium  Caffeine  Cost\n",
       "15         68      15       2.3  0.38\n",
       "16        139      19       4.4  0.43\n",
       "17        144      24       4.9  0.43\n",
       "18         72       6       2.9  0.46\n",
       "19         97       7       4.2  0.47"
      ]
     },
     "execution_count": 327,
     "metadata": {},
     "output_type": "execute_result"
    }
   ],
   "source": [
    "beverages_df1.tail()"
   ]
  },
  {
   "cell_type": "code",
   "execution_count": null,
   "metadata": {},
   "outputs": [],
   "source": []
  },
  {
   "cell_type": "markdown",
   "metadata": {},
   "source": [
    "# Implementation of the K-Means Clustering Technique for performing Clustering on the Beverage dataset - Bev_nm.csv : "
   ]
  },
  {
   "cell_type": "code",
   "execution_count": 328,
   "metadata": {},
   "outputs": [],
   "source": [
    "#3) Importing K-Means Clustering Model:\n",
    "\n",
    "from sklearn.cluster import KMeans\n",
    "\n",
    "#No. of Clusters in the K-Means Clustering is initialized to\n",
    "#start with 3 clusters\n",
    "\n",
    "km_clusters = KMeans(3) "
   ]
  },
  {
   "cell_type": "markdown",
   "metadata": {},
   "source": [
    "Fitting our Input Beverage dataset - Bev_nm.csv into \n",
    "the K-Means Clustering Model for implentation of Clustering\n",
    "process using K-Means Algorithm on the input dataset:\n"
   ]
  },
  {
   "cell_type": "code",
   "execution_count": 329,
   "metadata": {},
   "outputs": [
    {
     "data": {
      "text/plain": [
       "KMeans(n_clusters=3)"
      ]
     },
     "execution_count": 329,
     "metadata": {},
     "output_type": "execute_result"
    }
   ],
   "source": [
    "km_clusters.fit(beverages_df1)"
   ]
  },
  {
   "cell_type": "code",
   "execution_count": 330,
   "metadata": {},
   "outputs": [],
   "source": [
    "#4) The Output variable that contains all the Cluster - ID s for \n",
    "#each of the data items in the input Beverage dataset - 'Bev_nm.csv' is \n",
    "#km_clusters.labels_\n",
    "\n",
    "beverages_df[\"Cluster_ID\"] = km_clusters.labels_"
   ]
  },
  {
   "cell_type": "markdown",
   "metadata": {},
   "source": [
    "To view the data items of the input Beverage dataset - Bev_nm.csv , with their corresponding Labels / Cluster ID s  :"
   ]
  },
  {
   "cell_type": "code",
   "execution_count": 331,
   "metadata": {},
   "outputs": [
    {
     "data": {
      "text/html": [
       "<div>\n",
       "<style scoped>\n",
       "    .dataframe tbody tr th:only-of-type {\n",
       "        vertical-align: middle;\n",
       "    }\n",
       "\n",
       "    .dataframe tbody tr th {\n",
       "        vertical-align: top;\n",
       "    }\n",
       "\n",
       "    .dataframe thead th {\n",
       "        text-align: right;\n",
       "    }\n",
       "</style>\n",
       "<table border=\"1\" class=\"dataframe\">\n",
       "  <thead>\n",
       "    <tr style=\"text-align: right;\">\n",
       "      <th></th>\n",
       "      <th>Name</th>\n",
       "      <th>Potassium</th>\n",
       "      <th>Sodium</th>\n",
       "      <th>Caffeine</th>\n",
       "      <th>Cost</th>\n",
       "      <th>Cluster_ID</th>\n",
       "    </tr>\n",
       "  </thead>\n",
       "  <tbody>\n",
       "    <tr>\n",
       "      <th>5</th>\n",
       "      <td>jacobs_coffee</td>\n",
       "      <td>145</td>\n",
       "      <td>23</td>\n",
       "      <td>4.6</td>\n",
       "      <td>0.28</td>\n",
       "      <td>1</td>\n",
       "    </tr>\n",
       "    <tr>\n",
       "      <th>6</th>\n",
       "      <td>grounds_hounds_coffee</td>\n",
       "      <td>175</td>\n",
       "      <td>24</td>\n",
       "      <td>5.5</td>\n",
       "      <td>0.40</td>\n",
       "      <td>1</td>\n",
       "    </tr>\n",
       "    <tr>\n",
       "      <th>7</th>\n",
       "      <td>la_columbe_corisca</td>\n",
       "      <td>149</td>\n",
       "      <td>27</td>\n",
       "      <td>4.7</td>\n",
       "      <td>0.42</td>\n",
       "      <td>1</td>\n",
       "    </tr>\n",
       "    <tr>\n",
       "      <th>8</th>\n",
       "      <td>lavazza_super_crema</td>\n",
       "      <td>99</td>\n",
       "      <td>10</td>\n",
       "      <td>4.3</td>\n",
       "      <td>0.43</td>\n",
       "      <td>0</td>\n",
       "    </tr>\n",
       "    <tr>\n",
       "      <th>9</th>\n",
       "      <td>mount_hagen</td>\n",
       "      <td>113</td>\n",
       "      <td>8</td>\n",
       "      <td>3.7</td>\n",
       "      <td>0.40</td>\n",
       "      <td>0</td>\n",
       "    </tr>\n",
       "  </tbody>\n",
       "</table>\n",
       "</div>"
      ],
      "text/plain": [
       "                    Name  Potassium  Sodium  Caffeine  Cost  Cluster_ID\n",
       "5          jacobs_coffee        145      23       4.6  0.28           1\n",
       "6  grounds_hounds_coffee        175      24       5.5  0.40           1\n",
       "7     la_columbe_corisca        149      27       4.7  0.42           1\n",
       "8    lavazza_super_crema         99      10       4.3  0.43           0\n",
       "9            mount_hagen        113       8       3.7  0.40           0"
      ]
     },
     "execution_count": 331,
     "metadata": {},
     "output_type": "execute_result"
    }
   ],
   "source": [
    "beverages_df[5:10]"
   ]
  },
  {
   "cell_type": "code",
   "execution_count": null,
   "metadata": {},
   "outputs": [],
   "source": []
  },
  {
   "cell_type": "markdown",
   "metadata": {},
   "source": [
    "# 5) To visualize the Clusters identified / determined by implementation of the K-Means clustering Technique on the \n",
    "input Beverage dataset- Bev_nm.csv "
   ]
  },
  {
   "cell_type": "code",
   "execution_count": 332,
   "metadata": {},
   "outputs": [
    {
     "data": {
      "text/plain": [
       "<seaborn.axisgrid.FacetGrid at 0x1e19bc8b8b0>"
      ]
     },
     "execution_count": 332,
     "metadata": {},
     "output_type": "execute_result"
    },
    {
     "data": {
      "image/png": "[encoded data removed]",
      "text/plain": [
       "<Figure size 347.125x288 with 1 Axes>"
      ]
     },
     "metadata": {
      "needs_background": "light"
     },
     "output_type": "display_data"
    }
   ],
   "source": [
    "#5) Plotting the Clusters before Normalization (Scale Down) :\n",
    "\n",
    "markers = ['+','^','.']\n",
    "sns.lmplot(\"Cost\",\"Caffeine\", data = beverages_df, hue = \"Cluster_ID\", markers = markers, fit_reg = False, size =4)"
   ]
  },
  {
   "cell_type": "code",
   "execution_count": null,
   "metadata": {},
   "outputs": [],
   "source": []
  },
  {
   "cell_type": "markdown",
   "metadata": {},
   "source": [
    "6) To implement Normalization on the input Beverage dataset- Bev_nm.csv using Scaler transformation inorder to prevent \n",
    "\n",
    "the domination of the particular attribute/feature\n",
    "'Potassium' which has a higher range / domain of values ,  \n",
    "\n",
    "as compared to the other attribute/feature of the input dataset \n",
    "to dominate the Clutering Process : "
   ]
  },
  {
   "cell_type": "code",
   "execution_count": 333,
   "metadata": {},
   "outputs": [],
   "source": [
    "#6) Scaling down all the Features of the input Beverage dataset- Bev_nm.csv:\n",
    " \n",
    "from sklearn.preprocessing import StandardScaler\n",
    "scaler1 = StandardScaler()\n",
    "\n",
    "scaled_beverages_df1 = scaler1.fit_transform(beverages_df1[[\"Potassium\", \"Sodium\", \"Caffeine\", \"Cost\"]])"
   ]
  },
  {
   "cell_type": "code",
   "execution_count": 334,
   "metadata": {},
   "outputs": [
    {
     "data": {
      "text/plain": [
       "array([[ 0.42179223,  1.25494344,  0.3395018 , -1.5192243 ],\n",
       "       [ 1.43815906,  1.41083704,  1.1882563 , -0.66930861],\n",
       "       [ 0.55730781,  1.87851782,  0.43380786, -0.52765599],\n",
       "       [-1.1366369 , -0.7716733 ,  0.05658363, -0.45682969],\n",
       "       [-0.66233238, -1.08346049, -0.5092527 , -0.66930861]])"
      ]
     },
     "execution_count": 334,
     "metadata": {},
     "output_type": "execute_result"
    }
   ],
   "source": [
    "#To view the input Beverage dataset- Bev_nm.csv after \n",
    "#Scaling down the values of all the numerical valued \n",
    "#Features(\"Potassium\", \"Sodium\", \"Caffeine\", \"Cost\") of the dataset:\n",
    "\n",
    "scaled_beverages_df1[5:10]    "
   ]
  },
  {
   "cell_type": "code",
   "execution_count": null,
   "metadata": {},
   "outputs": [],
   "source": []
  },
  {
   "cell_type": "code",
   "execution_count": 335,
   "metadata": {},
   "outputs": [
    {
     "data": {
      "text/plain": [
       "KMeans(n_clusters=3)"
      ]
     },
     "execution_count": 335,
     "metadata": {},
     "output_type": "execute_result"
    }
   ],
   "source": [
    "#7) To Implement K-Means Clustering Technique again to \n",
    "#perform Clustering on the Normalized version of the input \n",
    "#Beverage dataset- Bev_nm.csv after Scaling down the values\n",
    "#of all the numerical valued Features of the dataset:\n",
    "\n",
    "km_clusters_scaled = KMeans(3)\n",
    "\n",
    "km_clusters_scaled.fit(scaled_beverages_df1)"
   ]
  },
  {
   "cell_type": "markdown",
   "metadata": {},
   "source": [
    "To view the Original data of the input Beverage dataset with the New Assigned Cluster ID s after implementing K-Means Clustering on the Normalized version of the input dataset\n",
    "i.e, the Scaled down values of all the numerical valued Features of the input dataset version of the - Bev_nm.csv:\n"
   ]
  },
  {
   "cell_type": "code",
   "execution_count": 336,
   "metadata": {},
   "outputs": [],
   "source": [
    "#The Output variable that contains the Cluster - ID s for \n",
    "#each of the data items in the Normalized version \n",
    "#(Scaled down values of all the numerical valued Features) of the input dataset is \n",
    "#km_clusters_scaled.labels_\n",
    "\n",
    "beverages_df[\"Cluster_ID_New\"] = km_clusters_scaled.labels_"
   ]
  },
  {
   "cell_type": "code",
   "execution_count": 337,
   "metadata": {},
   "outputs": [
    {
     "data": {
      "text/plain": [
       "array([[ 0.38791334,  0.00779468,  0.43380786, -0.45682969],\n",
       "       [ 0.6250656 ,  0.63136906,  0.62241997, -0.45682969],\n",
       "       [ 0.82833896,  0.00779468, -3.14982226, -0.10269815],\n",
       "       [ 1.26876459, -1.23935408,  0.90533814,  1.66795955],\n",
       "       [ 0.65894449, -0.6157797 ,  0.71672602,  1.95126478],\n",
       "       [ 0.42179223,  1.25494344,  0.3395018 , -1.5192243 ],\n",
       "       [ 1.43815906,  1.41083704,  1.1882563 , -0.66930861],\n",
       "       [ 0.55730781,  1.87851782,  0.43380786, -0.52765599],\n",
       "       [-1.1366369 , -0.7716733 ,  0.05658363, -0.45682969],\n",
       "       [-0.66233238, -1.08346049, -0.5092527 , -0.66930861],\n",
       "       [ 0.25239776,  0.47547547,  0.3395018 , -0.38600338],\n",
       "       [-1.03500022,  0.00779468, -0.13202848, -0.24435076],\n",
       "       [ 0.08300329, -0.6157797 , -0.03772242,  0.03895447],\n",
       "       [ 0.59118671,  0.63136906,  0.43380786,  1.88043848],\n",
       "       [ 0.55730781, -1.39524768,  0.71672602,  2.0929174 ],\n",
       "       [-2.18688263,  0.00779468, -1.82953748, -0.81096123],\n",
       "       [ 0.21851887,  0.63136906,  0.15088969, -0.45682969],\n",
       "       [ 0.38791334,  1.41083704,  0.62241997, -0.45682969],\n",
       "       [-2.05136705, -1.39524768, -1.26370115, -0.24435076],\n",
       "       [-1.20439469, -1.23935408, -0.03772242, -0.17352445]])"
      ]
     },
     "execution_count": 337,
     "metadata": {},
     "output_type": "execute_result"
    }
   ],
   "source": [
    "scaled_beverages_df1"
   ]
  },
  {
   "cell_type": "code",
   "execution_count": null,
   "metadata": {},
   "outputs": [],
   "source": []
  },
  {
   "cell_type": "markdown",
   "metadata": {},
   "source": [
    "To visualize the Clusters identified / determined by \n",
    "implementation of the K-Means clustering Technique on the Normalized version of the input \n",
    "Beverage dataset- Bev_nm.csv after Scaling down the values\n",
    "of all the numerical valued Features of the input Beverage dataset - Bev_nm.csv :"
   ]
  },
  {
   "cell_type": "code",
   "execution_count": 338,
   "metadata": {},
   "outputs": [
    {
     "data": {
      "text/plain": [
       "<seaborn.axisgrid.FacetGrid at 0x1e19bbd0be0>"
      ]
     },
     "execution_count": 338,
     "metadata": {},
     "output_type": "execute_result"
    },
    {
     "data": {
      "image/png": "[encoded data removed]",
      "text/plain": [
       "<Figure size 373.875x288 with 1 Axes>"
      ]
     },
     "metadata": {
      "needs_background": "light"
     },
     "output_type": "display_data"
    }
   ],
   "source": [
    "#8) Plotting the Clusters after Normalization (Scale Down) :\n",
    "\n",
    "markers = ['+','^','.']\n",
    "sns.lmplot(\"Cost\",\"Caffeine\", data = beverages_df, hue = \"Cluster_ID_New\", markers = markers, fit_reg = False, size =4)"
   ]
  },
  {
   "cell_type": "code",
   "execution_count": null,
   "metadata": {},
   "outputs": [],
   "source": []
  },
  {
   "cell_type": "markdown",
   "metadata": {},
   "source": [
    "9) To view Clusterwise data of the Beverage dataset- Bev_nm.csv sfter implementing \n",
    "K-Means Clustering on the Scaled down values\n",
    "of all the Features of the dataset: "
   ]
  },
  {
   "cell_type": "code",
   "execution_count": 339,
   "metadata": {},
   "outputs": [
    {
     "data": {
      "text/html": [
       "<div>\n",
       "<style scoped>\n",
       "    .dataframe tbody tr th:only-of-type {\n",
       "        vertical-align: middle;\n",
       "    }\n",
       "\n",
       "    .dataframe tbody tr th {\n",
       "        vertical-align: top;\n",
       "    }\n",
       "\n",
       "    .dataframe thead th {\n",
       "        text-align: right;\n",
       "    }\n",
       "</style>\n",
       "<table border=\"1\" class=\"dataframe\">\n",
       "  <thead>\n",
       "    <tr style=\"text-align: right;\">\n",
       "      <th></th>\n",
       "      <th>Name</th>\n",
       "      <th>Potassium</th>\n",
       "      <th>Sodium</th>\n",
       "      <th>Caffeine</th>\n",
       "      <th>Cost</th>\n",
       "      <th>Cluster_ID</th>\n",
       "      <th>Cluster_ID_New</th>\n",
       "    </tr>\n",
       "  </thead>\n",
       "  <tbody>\n",
       "    <tr>\n",
       "      <th>2</th>\n",
       "      <td>stumpdown_coffee</td>\n",
       "      <td>157</td>\n",
       "      <td>15</td>\n",
       "      <td>0.9</td>\n",
       "      <td>0.48</td>\n",
       "      <td>1</td>\n",
       "      <td>0</td>\n",
       "    </tr>\n",
       "    <tr>\n",
       "      <th>8</th>\n",
       "      <td>lavazza_super_crema</td>\n",
       "      <td>99</td>\n",
       "      <td>10</td>\n",
       "      <td>4.3</td>\n",
       "      <td>0.43</td>\n",
       "      <td>0</td>\n",
       "      <td>0</td>\n",
       "    </tr>\n",
       "    <tr>\n",
       "      <th>9</th>\n",
       "      <td>mount_hagen</td>\n",
       "      <td>113</td>\n",
       "      <td>8</td>\n",
       "      <td>3.7</td>\n",
       "      <td>0.40</td>\n",
       "      <td>0</td>\n",
       "      <td>0</td>\n",
       "    </tr>\n",
       "    <tr>\n",
       "      <th>11</th>\n",
       "      <td>peerless_wholebean</td>\n",
       "      <td>102</td>\n",
       "      <td>15</td>\n",
       "      <td>4.1</td>\n",
       "      <td>0.46</td>\n",
       "      <td>0</td>\n",
       "      <td>0</td>\n",
       "    </tr>\n",
       "    <tr>\n",
       "      <th>12</th>\n",
       "      <td>stone_street_coffee</td>\n",
       "      <td>135</td>\n",
       "      <td>11</td>\n",
       "      <td>4.2</td>\n",
       "      <td>0.50</td>\n",
       "      <td>1</td>\n",
       "      <td>0</td>\n",
       "    </tr>\n",
       "    <tr>\n",
       "      <th>15</th>\n",
       "      <td>caribou_coffee</td>\n",
       "      <td>68</td>\n",
       "      <td>15</td>\n",
       "      <td>2.3</td>\n",
       "      <td>0.38</td>\n",
       "      <td>2</td>\n",
       "      <td>0</td>\n",
       "    </tr>\n",
       "    <tr>\n",
       "      <th>18</th>\n",
       "      <td>davidoff_coffee</td>\n",
       "      <td>72</td>\n",
       "      <td>6</td>\n",
       "      <td>2.9</td>\n",
       "      <td>0.46</td>\n",
       "      <td>2</td>\n",
       "      <td>0</td>\n",
       "    </tr>\n",
       "    <tr>\n",
       "      <th>19</th>\n",
       "      <td>js_coffee</td>\n",
       "      <td>97</td>\n",
       "      <td>7</td>\n",
       "      <td>4.2</td>\n",
       "      <td>0.47</td>\n",
       "      <td>0</td>\n",
       "      <td>0</td>\n",
       "    </tr>\n",
       "  </tbody>\n",
       "</table>\n",
       "</div>"
      ],
      "text/plain": [
       "                   Name  Potassium  Sodium  Caffeine  Cost  Cluster_ID  \\\n",
       "2      stumpdown_coffee        157      15       0.9  0.48           1   \n",
       "8   lavazza_super_crema         99      10       4.3  0.43           0   \n",
       "9           mount_hagen        113       8       3.7  0.40           0   \n",
       "11   peerless_wholebean        102      15       4.1  0.46           0   \n",
       "12  stone_street_coffee        135      11       4.2  0.50           1   \n",
       "15       caribou_coffee         68      15       2.3  0.38           2   \n",
       "18      davidoff_coffee         72       6       2.9  0.46           2   \n",
       "19            js_coffee         97       7       4.2  0.47           0   \n",
       "\n",
       "    Cluster_ID_New  \n",
       "2                0  \n",
       "8                0  \n",
       "9                0  \n",
       "11               0  \n",
       "12               0  \n",
       "15               0  \n",
       "18               0  \n",
       "19               0  "
      ]
     },
     "execution_count": 339,
     "metadata": {},
     "output_type": "execute_result"
    }
   ],
   "source": [
    "#To view Clusterwise data for Cluster ID : 0\n",
    "beverages_df[beverages_df.Cluster_ID_New == 0]"
   ]
  },
  {
   "cell_type": "markdown",
   "metadata": {},
   "source": [
    "It can be observed from the preceeding output that in the Coffee brands belonging to \n",
    "Cluter ID : 0 , the Caffeine and Cost seems to be in the medium level range of values compared to the given range of other Clusters  "
   ]
  },
  {
   "cell_type": "code",
   "execution_count": 340,
   "metadata": {},
   "outputs": [
    {
     "data": {
      "text/html": [
       "<div>\n",
       "<style scoped>\n",
       "    .dataframe tbody tr th:only-of-type {\n",
       "        vertical-align: middle;\n",
       "    }\n",
       "\n",
       "    .dataframe tbody tr th {\n",
       "        vertical-align: top;\n",
       "    }\n",
       "\n",
       "    .dataframe thead th {\n",
       "        text-align: right;\n",
       "    }\n",
       "</style>\n",
       "<table border=\"1\" class=\"dataframe\">\n",
       "  <thead>\n",
       "    <tr style=\"text-align: right;\">\n",
       "      <th></th>\n",
       "      <th>Name</th>\n",
       "      <th>Potassium</th>\n",
       "      <th>Sodium</th>\n",
       "      <th>Caffeine</th>\n",
       "      <th>Cost</th>\n",
       "      <th>Cluster_ID</th>\n",
       "      <th>Cluster_ID_New</th>\n",
       "    </tr>\n",
       "  </thead>\n",
       "  <tbody>\n",
       "    <tr>\n",
       "      <th>0</th>\n",
       "      <td>new_england_coffee</td>\n",
       "      <td>144</td>\n",
       "      <td>15</td>\n",
       "      <td>4.7</td>\n",
       "      <td>0.43</td>\n",
       "      <td>1</td>\n",
       "      <td>1</td>\n",
       "    </tr>\n",
       "    <tr>\n",
       "      <th>1</th>\n",
       "      <td>post_alley_blend</td>\n",
       "      <td>151</td>\n",
       "      <td>19</td>\n",
       "      <td>4.9</td>\n",
       "      <td>0.43</td>\n",
       "      <td>1</td>\n",
       "      <td>1</td>\n",
       "    </tr>\n",
       "    <tr>\n",
       "      <th>5</th>\n",
       "      <td>jacobs_coffee</td>\n",
       "      <td>145</td>\n",
       "      <td>23</td>\n",
       "      <td>4.6</td>\n",
       "      <td>0.28</td>\n",
       "      <td>1</td>\n",
       "      <td>1</td>\n",
       "    </tr>\n",
       "    <tr>\n",
       "      <th>6</th>\n",
       "      <td>grounds_hounds_coffee</td>\n",
       "      <td>175</td>\n",
       "      <td>24</td>\n",
       "      <td>5.5</td>\n",
       "      <td>0.40</td>\n",
       "      <td>1</td>\n",
       "      <td>1</td>\n",
       "    </tr>\n",
       "    <tr>\n",
       "      <th>7</th>\n",
       "      <td>la_columbe_corisca</td>\n",
       "      <td>149</td>\n",
       "      <td>27</td>\n",
       "      <td>4.7</td>\n",
       "      <td>0.42</td>\n",
       "      <td>1</td>\n",
       "      <td>1</td>\n",
       "    </tr>\n",
       "    <tr>\n",
       "      <th>10</th>\n",
       "      <td>red_bay_coffee</td>\n",
       "      <td>140</td>\n",
       "      <td>18</td>\n",
       "      <td>4.6</td>\n",
       "      <td>0.44</td>\n",
       "      <td>1</td>\n",
       "      <td>1</td>\n",
       "    </tr>\n",
       "    <tr>\n",
       "      <th>16</th>\n",
       "      <td>irish_hazelnut_coffee</td>\n",
       "      <td>139</td>\n",
       "      <td>19</td>\n",
       "      <td>4.4</td>\n",
       "      <td>0.43</td>\n",
       "      <td>1</td>\n",
       "      <td>1</td>\n",
       "    </tr>\n",
       "    <tr>\n",
       "      <th>17</th>\n",
       "      <td>cremoso_coffee</td>\n",
       "      <td>144</td>\n",
       "      <td>24</td>\n",
       "      <td>4.9</td>\n",
       "      <td>0.43</td>\n",
       "      <td>1</td>\n",
       "      <td>1</td>\n",
       "    </tr>\n",
       "  </tbody>\n",
       "</table>\n",
       "</div>"
      ],
      "text/plain": [
       "                     Name  Potassium  Sodium  Caffeine  Cost  Cluster_ID  \\\n",
       "0      new_england_coffee        144      15       4.7  0.43           1   \n",
       "1        post_alley_blend        151      19       4.9  0.43           1   \n",
       "5           jacobs_coffee        145      23       4.6  0.28           1   \n",
       "6   grounds_hounds_coffee        175      24       5.5  0.40           1   \n",
       "7      la_columbe_corisca        149      27       4.7  0.42           1   \n",
       "10         red_bay_coffee        140      18       4.6  0.44           1   \n",
       "16  irish_hazelnut_coffee        139      19       4.4  0.43           1   \n",
       "17         cremoso_coffee        144      24       4.9  0.43           1   \n",
       "\n",
       "    Cluster_ID_New  \n",
       "0                1  \n",
       "1                1  \n",
       "5                1  \n",
       "6                1  \n",
       "7                1  \n",
       "10               1  \n",
       "16               1  \n",
       "17               1  "
      ]
     },
     "execution_count": 340,
     "metadata": {},
     "output_type": "execute_result"
    }
   ],
   "source": [
    "#To view Clusterwise data for Cluster ID : 1\n",
    "beverages_df[beverages_df.Cluster_ID_New == 1]"
   ]
  },
  {
   "cell_type": "markdown",
   "metadata": {},
   "source": [
    "It can be observed from the preceeding output that in the Coffee brands belonging to \n",
    "Cluter ID : 1 , both the Caffeine and Cost seems to be in the low level range of values compared to the given range of other Clusters   "
   ]
  },
  {
   "cell_type": "code",
   "execution_count": 341,
   "metadata": {},
   "outputs": [
    {
     "data": {
      "text/html": [
       "<div>\n",
       "<style scoped>\n",
       "    .dataframe tbody tr th:only-of-type {\n",
       "        vertical-align: middle;\n",
       "    }\n",
       "\n",
       "    .dataframe tbody tr th {\n",
       "        vertical-align: top;\n",
       "    }\n",
       "\n",
       "    .dataframe thead th {\n",
       "        text-align: right;\n",
       "    }\n",
       "</style>\n",
       "<table border=\"1\" class=\"dataframe\">\n",
       "  <thead>\n",
       "    <tr style=\"text-align: right;\">\n",
       "      <th></th>\n",
       "      <th>Name</th>\n",
       "      <th>Potassium</th>\n",
       "      <th>Sodium</th>\n",
       "      <th>Caffeine</th>\n",
       "      <th>Cost</th>\n",
       "      <th>Cluster_ID</th>\n",
       "      <th>Cluster_ID_New</th>\n",
       "    </tr>\n",
       "  </thead>\n",
       "  <tbody>\n",
       "    <tr>\n",
       "      <th>3</th>\n",
       "      <td>bizzy_organic_coffee</td>\n",
       "      <td>170</td>\n",
       "      <td>7</td>\n",
       "      <td>5.2</td>\n",
       "      <td>0.73</td>\n",
       "      <td>1</td>\n",
       "      <td>2</td>\n",
       "    </tr>\n",
       "    <tr>\n",
       "      <th>4</th>\n",
       "      <td>indian_bean</td>\n",
       "      <td>152</td>\n",
       "      <td>11</td>\n",
       "      <td>5.0</td>\n",
       "      <td>0.77</td>\n",
       "      <td>1</td>\n",
       "      <td>2</td>\n",
       "    </tr>\n",
       "    <tr>\n",
       "      <th>13</th>\n",
       "      <td>green_mountain_coffee</td>\n",
       "      <td>150</td>\n",
       "      <td>19</td>\n",
       "      <td>4.7</td>\n",
       "      <td>0.76</td>\n",
       "      <td>1</td>\n",
       "      <td>2</td>\n",
       "    </tr>\n",
       "    <tr>\n",
       "      <th>14</th>\n",
       "      <td>koffee_cuit</td>\n",
       "      <td>149</td>\n",
       "      <td>6</td>\n",
       "      <td>5.0</td>\n",
       "      <td>0.79</td>\n",
       "      <td>1</td>\n",
       "      <td>2</td>\n",
       "    </tr>\n",
       "  </tbody>\n",
       "</table>\n",
       "</div>"
      ],
      "text/plain": [
       "                     Name  Potassium  Sodium  Caffeine  Cost  Cluster_ID  \\\n",
       "3    bizzy_organic_coffee        170       7       5.2  0.73           1   \n",
       "4             indian_bean        152      11       5.0  0.77           1   \n",
       "13  green_mountain_coffee        150      19       4.7  0.76           1   \n",
       "14            koffee_cuit        149       6       5.0  0.79           1   \n",
       "\n",
       "    Cluster_ID_New  \n",
       "3                2  \n",
       "4                2  \n",
       "13               2  \n",
       "14               2  "
      ]
     },
     "execution_count": 341,
     "metadata": {},
     "output_type": "execute_result"
    }
   ],
   "source": [
    "#To view Clusterwise data for Cluster ID : 2\n",
    "beverages_df[beverages_df.Cluster_ID_New == 2]"
   ]
  },
  {
   "cell_type": "markdown",
   "metadata": {},
   "source": [
    "It can be observed from the preceeding output that in the Coffee brands belonging to Cluter ID : 2 , both the Caffeine and Cost seems to be in the High level range of values compared to the given range of other Clusters "
   ]
  },
  {
   "cell_type": "code",
   "execution_count": 342,
   "metadata": {},
   "outputs": [],
   "source": [
    "#beverages_df"
   ]
  },
  {
   "cell_type": "code",
   "execution_count": null,
   "metadata": {},
   "outputs": [],
   "source": []
  },
  {
   "cell_type": "markdown",
   "metadata": {},
   "source": [
    "# Implementation of the Agglomerative Clustering Technique for performing Clustering on the Beverage dataset - Bev_nm.csv :"
   ]
  },
  {
   "cell_type": "code",
   "execution_count": 343,
   "metadata": {},
   "outputs": [
    {
     "data": {
      "text/html": [
       "<div>\n",
       "<style scoped>\n",
       "    .dataframe tbody tr th:only-of-type {\n",
       "        vertical-align: middle;\n",
       "    }\n",
       "\n",
       "    .dataframe tbody tr th {\n",
       "        vertical-align: top;\n",
       "    }\n",
       "\n",
       "    .dataframe thead th {\n",
       "        text-align: right;\n",
       "    }\n",
       "</style>\n",
       "<table border=\"1\" class=\"dataframe\">\n",
       "  <thead>\n",
       "    <tr style=\"text-align: right;\">\n",
       "      <th></th>\n",
       "      <th>Name</th>\n",
       "      <th>Potassium</th>\n",
       "      <th>Sodium</th>\n",
       "      <th>Caffeine</th>\n",
       "      <th>Cost</th>\n",
       "    </tr>\n",
       "  </thead>\n",
       "  <tbody>\n",
       "    <tr>\n",
       "      <th>0</th>\n",
       "      <td>new_england_coffee</td>\n",
       "      <td>144</td>\n",
       "      <td>15</td>\n",
       "      <td>4.7</td>\n",
       "      <td>0.43</td>\n",
       "    </tr>\n",
       "    <tr>\n",
       "      <th>1</th>\n",
       "      <td>post_alley_blend</td>\n",
       "      <td>151</td>\n",
       "      <td>19</td>\n",
       "      <td>4.9</td>\n",
       "      <td>0.43</td>\n",
       "    </tr>\n",
       "    <tr>\n",
       "      <th>2</th>\n",
       "      <td>stumpdown_coffee</td>\n",
       "      <td>157</td>\n",
       "      <td>15</td>\n",
       "      <td>0.9</td>\n",
       "      <td>0.48</td>\n",
       "    </tr>\n",
       "    <tr>\n",
       "      <th>3</th>\n",
       "      <td>bizzy_organic_coffee</td>\n",
       "      <td>170</td>\n",
       "      <td>7</td>\n",
       "      <td>5.2</td>\n",
       "      <td>0.73</td>\n",
       "    </tr>\n",
       "    <tr>\n",
       "      <th>4</th>\n",
       "      <td>indian_bean</td>\n",
       "      <td>152</td>\n",
       "      <td>11</td>\n",
       "      <td>5.0</td>\n",
       "      <td>0.77</td>\n",
       "    </tr>\n",
       "  </tbody>\n",
       "</table>\n",
       "</div>"
      ],
      "text/plain": [
       "                   Name  Potassium  Sodium  Caffeine  Cost\n",
       "0    new_england_coffee        144      15       4.7  0.43\n",
       "1      post_alley_blend        151      19       4.9  0.43\n",
       "2      stumpdown_coffee        157      15       0.9  0.48\n",
       "3  bizzy_organic_coffee        170       7       5.2  0.73\n",
       "4           indian_bean        152      11       5.0  0.77"
      ]
     },
     "execution_count": 343,
     "metadata": {},
     "output_type": "execute_result"
    }
   ],
   "source": [
    "#1) To Read the Beverage dataset - 'Bev_nm.csv' into  a variable (DataFrame) from a pre created dataframe variable 'beverages_df' :\n",
    "\n",
    "bev_df = beverages_df[[\"Name\",\"Potassium\", \"Sodium\", \"Caffeine\", \"Cost\"]] #Bev_nm.csv \n",
    "bev_df.head()"
   ]
  },
  {
   "cell_type": "code",
   "execution_count": null,
   "metadata": {},
   "outputs": [],
   "source": []
  },
  {
   "cell_type": "code",
   "execution_count": 344,
   "metadata": {},
   "outputs": [],
   "source": [
    "#3) Importing Agglomerative Clustering Model:\n",
    "\n",
    "from sklearn.cluster import AgglomerativeClustering\n",
    "\n",
    "#No. of Clusters in the Agglomerative Clustering is initialized to\n",
    "#start with 3 clusters\n",
    "\n",
    "ag_clusters = AgglomerativeClustering(3) "
   ]
  },
  {
   "cell_type": "code",
   "execution_count": 345,
   "metadata": {},
   "outputs": [],
   "source": [
    "#beverages_df1.head()"
   ]
  },
  {
   "cell_type": "markdown",
   "metadata": {},
   "source": [
    "Fitting our Input Beverage dataset - Bev_nm.csv into \n",
    "the Agglomerative Clustering Model for implentation of Clustering\n",
    "process using Agglomerative Clustering Algorithm on the input dataset:\n"
   ]
  },
  {
   "cell_type": "code",
   "execution_count": 346,
   "metadata": {},
   "outputs": [
    {
     "data": {
      "text/plain": [
       "AgglomerativeClustering(n_clusters=3)"
      ]
     },
     "execution_count": 346,
     "metadata": {},
     "output_type": "execute_result"
    }
   ],
   "source": [
    "ag_clusters.fit(beverages_df1)"
   ]
  },
  {
   "cell_type": "code",
   "execution_count": 347,
   "metadata": {},
   "outputs": [],
   "source": [
    "#4) The Output variable that contains all the Cluster - ID s for \n",
    "#each of the data items in the input Beverage dataset - 'Bev_nm.csv' is \n",
    "#ag_clusters.labels_\n",
    "\n",
    "bev_df[\"Cluster_ID_ag\"] = ag_clusters.labels_"
   ]
  },
  {
   "cell_type": "markdown",
   "metadata": {},
   "source": [
    "To view the data items of the input Beverage dataset - Bev_nm.csv , with their corresponding Labels / Cluster ID s  :"
   ]
  },
  {
   "cell_type": "code",
   "execution_count": 348,
   "metadata": {},
   "outputs": [
    {
     "data": {
      "text/html": [
       "<div>\n",
       "<style scoped>\n",
       "    .dataframe tbody tr th:only-of-type {\n",
       "        vertical-align: middle;\n",
       "    }\n",
       "\n",
       "    .dataframe tbody tr th {\n",
       "        vertical-align: top;\n",
       "    }\n",
       "\n",
       "    .dataframe thead th {\n",
       "        text-align: right;\n",
       "    }\n",
       "</style>\n",
       "<table border=\"1\" class=\"dataframe\">\n",
       "  <thead>\n",
       "    <tr style=\"text-align: right;\">\n",
       "      <th></th>\n",
       "      <th>Name</th>\n",
       "      <th>Potassium</th>\n",
       "      <th>Sodium</th>\n",
       "      <th>Caffeine</th>\n",
       "      <th>Cost</th>\n",
       "      <th>Cluster_ID_ag</th>\n",
       "    </tr>\n",
       "  </thead>\n",
       "  <tbody>\n",
       "    <tr>\n",
       "      <th>5</th>\n",
       "      <td>jacobs_coffee</td>\n",
       "      <td>145</td>\n",
       "      <td>23</td>\n",
       "      <td>4.6</td>\n",
       "      <td>0.28</td>\n",
       "      <td>0</td>\n",
       "    </tr>\n",
       "    <tr>\n",
       "      <th>6</th>\n",
       "      <td>grounds_hounds_coffee</td>\n",
       "      <td>175</td>\n",
       "      <td>24</td>\n",
       "      <td>5.5</td>\n",
       "      <td>0.40</td>\n",
       "      <td>0</td>\n",
       "    </tr>\n",
       "    <tr>\n",
       "      <th>7</th>\n",
       "      <td>la_columbe_corisca</td>\n",
       "      <td>149</td>\n",
       "      <td>27</td>\n",
       "      <td>4.7</td>\n",
       "      <td>0.42</td>\n",
       "      <td>0</td>\n",
       "    </tr>\n",
       "    <tr>\n",
       "      <th>8</th>\n",
       "      <td>lavazza_super_crema</td>\n",
       "      <td>99</td>\n",
       "      <td>10</td>\n",
       "      <td>4.3</td>\n",
       "      <td>0.43</td>\n",
       "      <td>1</td>\n",
       "    </tr>\n",
       "    <tr>\n",
       "      <th>9</th>\n",
       "      <td>mount_hagen</td>\n",
       "      <td>113</td>\n",
       "      <td>8</td>\n",
       "      <td>3.7</td>\n",
       "      <td>0.40</td>\n",
       "      <td>1</td>\n",
       "    </tr>\n",
       "  </tbody>\n",
       "</table>\n",
       "</div>"
      ],
      "text/plain": [
       "                    Name  Potassium  Sodium  Caffeine  Cost  Cluster_ID_ag\n",
       "5          jacobs_coffee        145      23       4.6  0.28              0\n",
       "6  grounds_hounds_coffee        175      24       5.5  0.40              0\n",
       "7     la_columbe_corisca        149      27       4.7  0.42              0\n",
       "8    lavazza_super_crema         99      10       4.3  0.43              1\n",
       "9            mount_hagen        113       8       3.7  0.40              1"
      ]
     },
     "execution_count": 348,
     "metadata": {},
     "output_type": "execute_result"
    }
   ],
   "source": [
    "bev_df[5:10]"
   ]
  },
  {
   "cell_type": "code",
   "execution_count": null,
   "metadata": {},
   "outputs": [],
   "source": []
  },
  {
   "cell_type": "markdown",
   "metadata": {},
   "source": [
    "# 5) To visualize the Clusters identified / determined by implementation of the Agglomerative clustering Technique \n",
    "on the input Beverage dataset- Bev_nm.csv "
   ]
  },
  {
   "cell_type": "code",
   "execution_count": 349,
   "metadata": {},
   "outputs": [
    {
     "data": {
      "text/plain": [
       "<seaborn.axisgrid.FacetGrid at 0x1e19bd87790>"
      ]
     },
     "execution_count": 349,
     "metadata": {},
     "output_type": "execute_result"
    },
    {
     "data": {
      "image/png": "[encoded data removed]",
      "text/plain": [
       "<Figure size 364.625x288 with 1 Axes>"
      ]
     },
     "metadata": {
      "needs_background": "light"
     },
     "output_type": "display_data"
    }
   ],
   "source": [
    "#5) Plotting the Clusters before Normalization (Scale Down) :\n",
    "\n",
    "markers = ['*','^','.']\n",
    "sns.lmplot(\"Cost\",\"Caffeine\", data = bev_df, hue = \"Cluster_ID_ag\", markers = markers, fit_reg = False, size =4)"
   ]
  },
  {
   "cell_type": "code",
   "execution_count": null,
   "metadata": {},
   "outputs": [],
   "source": []
  },
  {
   "cell_type": "markdown",
   "metadata": {},
   "source": [
    "6) To implement Normalization on the input Beverage dataset- Bev_nm.csv using Scaler transformation inorder to prevent\n",
    "\n",
    "the domination of the particular attribute/feature 'Potassium' which has a higher range / domain of values ,\n",
    "\n",
    "as compared to the other attribute/feature of the input dataset to dominate the Clutering Process :\n"
   ]
  },
  {
   "cell_type": "code",
   "execution_count": 350,
   "metadata": {},
   "outputs": [],
   "source": [
    "#6) Scaling down all the Features of the input Beverage dataset- Bev_nm.csv:\n",
    " \n",
    "from sklearn.preprocessing import StandardScaler\n",
    "sclr1 = StandardScaler()\n",
    "\n",
    "scaled_bev_df1 = sclr1.fit_transform(beverages_df1[[\"Potassium\", \"Sodium\", \"Caffeine\", \"Cost\"]])"
   ]
  },
  {
   "cell_type": "code",
   "execution_count": 351,
   "metadata": {},
   "outputs": [
    {
     "data": {
      "text/plain": [
       "array([[ 0.42179223,  1.25494344,  0.3395018 , -1.5192243 ],\n",
       "       [ 1.43815906,  1.41083704,  1.1882563 , -0.66930861],\n",
       "       [ 0.55730781,  1.87851782,  0.43380786, -0.52765599],\n",
       "       [-1.1366369 , -0.7716733 ,  0.05658363, -0.45682969],\n",
       "       [-0.66233238, -1.08346049, -0.5092527 , -0.66930861]])"
      ]
     },
     "execution_count": 351,
     "metadata": {},
     "output_type": "execute_result"
    }
   ],
   "source": [
    "#To view the input Beverage dataset- Bev_nm.csv after \n",
    "#Scaling down the values of all the numerical valued \n",
    "#Features(\"Potassium\", \"Sodium\", \"Caffeine\", \"Cost\") of the dataset:\n",
    "\n",
    "scaled_bev_df1[5:10]    "
   ]
  },
  {
   "cell_type": "code",
   "execution_count": null,
   "metadata": {},
   "outputs": [],
   "source": []
  },
  {
   "cell_type": "code",
   "execution_count": 352,
   "metadata": {},
   "outputs": [
    {
     "data": {
      "text/plain": [
       "AgglomerativeClustering(n_clusters=3)"
      ]
     },
     "execution_count": 352,
     "metadata": {},
     "output_type": "execute_result"
    }
   ],
   "source": [
    "#7) To Implement Agglomerative Clustering Technique again to \n",
    "#perform Clustering on the Normalized version of the input \n",
    "#Beverage dataset- Bev_nm.csv after Scaling down the values\n",
    "#of all the numerical valued Features of the dataset:\n",
    "\n",
    "ag_clusters_scaled = AgglomerativeClustering(3)\n",
    "\n",
    "ag_clusters_scaled.fit(scaled_bev_df1)"
   ]
  },
  {
   "cell_type": "code",
   "execution_count": null,
   "metadata": {},
   "outputs": [],
   "source": []
  },
  {
   "cell_type": "markdown",
   "metadata": {},
   "source": [
    "To view the Original data of the input Beverage dataset with the New Assigned Cluster ID s after implementing Agglomerative Clustering on the Normalized version of the input dataset i.e, the Scaled down values of all the numerical valued Features of the input dataset version of the - Bev_nm.csv:"
   ]
  },
  {
   "cell_type": "code",
   "execution_count": 353,
   "metadata": {},
   "outputs": [],
   "source": [
    "#The Output variable that contains the Cluster - ID s for \n",
    "#each of the data items in the Normalized version \n",
    "#(Scaled down values of all the numerical valued Features) of the input dataset is \n",
    "#ag_clusters_scaled.labels_\n",
    "\n",
    "bev_df[\"Cluster_ID_ag_New\"] = ag_clusters_scaled.labels_"
   ]
  },
  {
   "cell_type": "code",
   "execution_count": 354,
   "metadata": {},
   "outputs": [
    {
     "data": {
      "text/plain": [
       "array([[ 0.38791334,  0.00779468,  0.43380786, -0.45682969],\n",
       "       [ 0.6250656 ,  0.63136906,  0.62241997, -0.45682969],\n",
       "       [ 0.82833896,  0.00779468, -3.14982226, -0.10269815],\n",
       "       [ 1.26876459, -1.23935408,  0.90533814,  1.66795955],\n",
       "       [ 0.65894449, -0.6157797 ,  0.71672602,  1.95126478],\n",
       "       [ 0.42179223,  1.25494344,  0.3395018 , -1.5192243 ],\n",
       "       [ 1.43815906,  1.41083704,  1.1882563 , -0.66930861],\n",
       "       [ 0.55730781,  1.87851782,  0.43380786, -0.52765599],\n",
       "       [-1.1366369 , -0.7716733 ,  0.05658363, -0.45682969],\n",
       "       [-0.66233238, -1.08346049, -0.5092527 , -0.66930861],\n",
       "       [ 0.25239776,  0.47547547,  0.3395018 , -0.38600338],\n",
       "       [-1.03500022,  0.00779468, -0.13202848, -0.24435076],\n",
       "       [ 0.08300329, -0.6157797 , -0.03772242,  0.03895447],\n",
       "       [ 0.59118671,  0.63136906,  0.43380786,  1.88043848],\n",
       "       [ 0.55730781, -1.39524768,  0.71672602,  2.0929174 ],\n",
       "       [-2.18688263,  0.00779468, -1.82953748, -0.81096123],\n",
       "       [ 0.21851887,  0.63136906,  0.15088969, -0.45682969],\n",
       "       [ 0.38791334,  1.41083704,  0.62241997, -0.45682969],\n",
       "       [-2.05136705, -1.39524768, -1.26370115, -0.24435076],\n",
       "       [-1.20439469, -1.23935408, -0.03772242, -0.17352445]])"
      ]
     },
     "execution_count": 354,
     "metadata": {},
     "output_type": "execute_result"
    }
   ],
   "source": [
    "scaled_bev_df1"
   ]
  },
  {
   "cell_type": "code",
   "execution_count": null,
   "metadata": {},
   "outputs": [],
   "source": []
  },
  {
   "cell_type": "markdown",
   "metadata": {},
   "source": [
    "To visualize the Clusters identified / determined by implementation of the Agglomerative Clustering Technique on the Normalized version of the input Beverage dataset- Bev_nm.csv after Scaling down the values of all the numerical valued Features of the\n",
    "input Beverage dataset - Bev_nm.csv :"
   ]
  },
  {
   "cell_type": "code",
   "execution_count": 355,
   "metadata": {},
   "outputs": [
    {
     "data": {
      "text/plain": [
       "<seaborn.axisgrid.FacetGrid at 0x1e19bdf99a0>"
      ]
     },
     "execution_count": 355,
     "metadata": {},
     "output_type": "execute_result"
    },
    {
     "data": {
      "image/png": "[encoded data removed]",
      "text/plain": [
       "<Figure size 391.375x288 with 1 Axes>"
      ]
     },
     "metadata": {
      "needs_background": "light"
     },
     "output_type": "display_data"
    }
   ],
   "source": [
    "#8) Plotting the Clusters after Normalization (Scale Down) :\n",
    "\n",
    "markers = ['+','^','.']\n",
    "sns.lmplot(\"Cost\",\"Caffeine\", data = bev_df, hue = \"Cluster_ID_ag_New\", markers = markers, fit_reg = False, size =4)"
   ]
  },
  {
   "cell_type": "code",
   "execution_count": null,
   "metadata": {},
   "outputs": [],
   "source": []
  },
  {
   "cell_type": "markdown",
   "metadata": {},
   "source": [
    "# Compairing and Analysing the Performance Measure in terms of the efficiency of Clustering for the two Clustering techniques : A) K-Means Clustering and B) Agglomerative Clustering , on a Beverage Dataset - 'Bev_nm.csv' :"
   ]
  },
  {
   "cell_type": "markdown",
   "metadata": {},
   "source": [
    "It can be observed from the Cluster analysis of both k-Means and Agglomerative Clustering  that :-"
   ]
  },
  {
   "cell_type": "code",
   "execution_count": 356,
   "metadata": {},
   "outputs": [
    {
     "data": {
      "text/plain": [
       "<seaborn.axisgrid.FacetGrid at 0x1e19bde6f70>"
      ]
     },
     "execution_count": 356,
     "metadata": {},
     "output_type": "execute_result"
    },
    {
     "data": {
      "image/png": "[encoded data removed]",
      "text/plain": [
       "<Figure size 391.375x288 with 1 Axes>"
      ]
     },
     "metadata": {
      "needs_background": "light"
     },
     "output_type": "display_data"
    }
   ],
   "source": [
    "markers = ['+','^','.']\n",
    "sns.lmplot(\"Cost\",\"Caffeine\", data = bev_df, hue = \"Cluster_ID_ag_New\", markers = markers, fit_reg = False, size =4)"
   ]
  },
  {
   "cell_type": "code",
   "execution_count": 357,
   "metadata": {},
   "outputs": [
    {
     "data": {
      "text/plain": [
       "<seaborn.axisgrid.FacetGrid at 0x1e19bdda160>"
      ]
     },
     "execution_count": 357,
     "metadata": {},
     "output_type": "execute_result"
    },
    {
     "data": {
      "image/png": "[encoded data removed]",
      "text/plain": [
       "<Figure size 373.875x288 with 1 Axes>"
      ]
     },
     "metadata": {
      "needs_background": "light"
     },
     "output_type": "display_data"
    }
   ],
   "source": [
    "#8) Plotting the Clusters after Normalization (Scale Down) :\n",
    "\n",
    "markers = ['+','^','.']\n",
    "sns.lmplot(\"Cost\",\"Caffeine\", data = beverages_df, hue = \"Cluster_ID_New\", markers = markers, fit_reg = False, size =4)"
   ]
  },
  {
   "cell_type": "markdown",
   "metadata": {},
   "source": [
    "that both the Clustering techniques : A) K-Means Clustering and B) Agglomerative Clustering have more or less the similar , kind of eqaul Clustering Performance Efficiency in terms of Clustering the Beverage Dataset - 'Bev_nm.csv' "
   ]
  },
  {
   "cell_type": "code",
   "execution_count": null,
   "metadata": {},
   "outputs": [],
   "source": []
  },
  {
   "cell_type": "code",
   "execution_count": null,
   "metadata": {},
   "outputs": [],
   "source": []
  },
  {
   "cell_type": "code",
   "execution_count": null,
   "metadata": {},
   "outputs": [],
   "source": []
  }
 ],
 "metadata": {
  "kernelspec": {
   "display_name": "Python 3",
   "language": "python",
   "name": "python3"
  },
  "language_info": {
   "codemirror_mode": {
    "name": "ipython",
    "version": 3
   },
   "file_extension": ".py",
   "mimetype": "text/x-python",
   "name": "python",
   "nbconvert_exporter": "python",
   "pygments_lexer": "ipython3",
   "version": "3.8.5"
  }
 },
 "nbformat": 4,
 "nbformat_minor": 4
}
